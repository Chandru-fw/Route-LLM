{
 "cells": [
  {
   "cell_type": "code",
   "execution_count": 9,
   "metadata": {},
   "outputs": [
    {
     "data": {
      "text/plain": [
       "True"
      ]
     },
     "execution_count": 9,
     "metadata": {},
     "output_type": "execute_result"
    }
   ],
   "source": [
    "from dotenv import load_dotenv\n",
    "\n",
    "load_dotenv(dotenv_path=\".env\")"
   ]
  },
  {
   "cell_type": "markdown",
   "metadata": {},
   "source": [
    "### Nodes & Edges"
   ]
  },
  {
   "cell_type": "code",
   "execution_count": 32,
   "metadata": {},
   "outputs": [],
   "source": [
    "from langchain_core.messages import HumanMessage\n",
    "from langgraph.graph import END,MessageGraph\n",
    "import time"
   ]
  },
  {
   "cell_type": "code",
   "execution_count": 33,
   "metadata": {},
   "outputs": [],
   "source": [
    "def add_one(input: list[HumanMessage]):\n",
    "    input[0].content=input[0].content + 'a'\n",
    "    time.sleep(1)\n",
    "    return input\n"
   ]
  },
  {
   "cell_type": "code",
   "execution_count": 34,
   "metadata": {},
   "outputs": [],
   "source": [
    "graph = MessageGraph()\n",
    "\n",
    "graph.add_node(\"branch_a\", add_one)\n",
    "graph.add_edge(\"branch_a\", \"branch_b\")\n",
    "graph.add_edge(\"branch_a\", \"branch_c\")\n",
    "\n",
    "graph.add_node(\"branch_b\", add_one)\n",
    "graph.add_node(\"branch_c\", add_one)\n",
    "\n",
    "graph.add_edge(\"branch_b\", \"final_node\")\n",
    "graph.add_edge(\"branch_c\", \"final_node\")\n",
    "\n",
    "graph.add_node(\"final_node\", add_one)\n",
    "graph.add_edge(\"final_node\", END)\n",
    "\n",
    "graph.set_entry_point(\"branch_a\")\n",
    "\n",
    "runnable = graph.compile()"
   ]
  },
  {
   "cell_type": "code",
   "execution_count": 17,
   "metadata": {},
   "outputs": [
    {
     "data": {
      "image/jpeg": "[encoded data removed]",
      "text/plain": [
       "<IPython.core.display.Image object>"
      ]
     },
     "metadata": {},
     "output_type": "display_data"
    }
   ],
   "source": [
    "from IPython.display import Image, display\n",
    "\n",
    "display(Image(runnable.get_graph().draw_mermaid_png()))"
   ]
  },
  {
   "cell_type": "code",
   "execution_count": 35,
   "metadata": {},
   "outputs": [
    {
     "data": {
      "text/plain": [
       "[HumanMessage(content='baaaa', additional_kwargs={}, response_metadata={}, id='5954d830-98e1-48cc-adfe-b5e437639f5d')]"
      ]
     },
     "execution_count": 35,
     "metadata": {},
     "output_type": "execute_result"
    }
   ],
   "source": [
    "runnable.invoke(\"b\")\n"
   ]
  },
  {
   "cell_type": "code",
   "execution_count": 36,
   "metadata": {},
   "outputs": [
    {
     "data": {
      "text/plain": [
       "[HumanMessage(content='aaaaa', additional_kwargs={}, response_metadata={}, id='1c53b5b6-808d-4136-8aa0-d9bbfae4a640')]"
      ]
     },
     "execution_count": 36,
     "metadata": {},
     "output_type": "execute_result"
    }
   ],
   "source": [
    "runnable.invoke(\"a\")\n"
   ]
  },
  {
   "cell_type": "markdown",
   "metadata": {},
   "source": [
    "### Conditional Edges\n"
   ]
  },
  {
   "cell_type": "code",
   "execution_count": 37,
   "metadata": {},
   "outputs": [],
   "source": [
    "from langchain_core.messages import HumanMessage\n",
    "from langgraph.graph import END, MessageGraph\n"
   ]
  },
  {
   "cell_type": "code",
   "execution_count": 38,
   "metadata": {},
   "outputs": [],
   "source": [
    "def entry(input: list[HumanMessage]):\n",
    "    return input\n",
    "\n",
    "\n",
    "def work_with_b(input: list[HumanMessage]):\n",
    "    print(\"Using branch B\")\n",
    "    return input\n",
    "\n",
    "\n",
    "def work_with_c(input: list[HumanMessage]):\n",
    "    print(\"Using branch C\")\n",
    "    return input\n",
    "\n",
    "\n",
    "def router(input: list[HumanMessage]):\n",
    "    if \"use_b\" in input[0].content:\n",
    "        return \"branch_b\"\n",
    "    else:\n",
    "        return \"branch_c\""
   ]
  },
  {
   "cell_type": "code",
   "execution_count": 39,
   "metadata": {},
   "outputs": [],
   "source": [
    "graph = MessageGraph()\n"
   ]
  },
  {
   "cell_type": "code",
   "execution_count": 40,
   "metadata": {},
   "outputs": [
    {
     "data": {
      "text/plain": [
       "<langgraph.graph.message.MessageGraph at 0x1174f7620>"
      ]
     },
     "execution_count": 40,
     "metadata": {},
     "output_type": "execute_result"
    }
   ],
   "source": [
    "graph.add_node(\"branch_a\", entry)\n",
    "graph.add_node(\"branch_b\", work_with_b)\n",
    "graph.add_node(\"branch_c\", work_with_c)"
   ]
  },
  {
   "cell_type": "code",
   "execution_count": 41,
   "metadata": {},
   "outputs": [
    {
     "data": {
      "text/plain": [
       "<langgraph.graph.message.MessageGraph at 0x1174f7620>"
      ]
     },
     "execution_count": 41,
     "metadata": {},
     "output_type": "execute_result"
    }
   ],
   "source": [
    "graph.add_conditional_edges(\n",
    "    \"branch_a\", router, {\"branch_b\": \"branch_b\", \"branch_c\": \"branch_c\"}\n",
    ")\n",
    "graph.add_edge(\"branch_b\", END)\n",
    "graph.add_edge(\"branch_c\", END)\n",
    "\n",
    "graph.set_entry_point(\"branch_a\")\n"
   ]
  },
  {
   "cell_type": "code",
   "execution_count": 42,
   "metadata": {},
   "outputs": [],
   "source": [
    "runnable = graph.compile()"
   ]
  },
  {
   "cell_type": "code",
   "execution_count": 43,
   "metadata": {},
   "outputs": [
    {
     "data": {
      "image/jpeg": "[encoded data removed]",
      "text/plain": [
       "<IPython.core.display.Image object>"
      ]
     },
     "metadata": {},
     "output_type": "display_data"
    }
   ],
   "source": [
    "display(Image(runnable.get_graph().draw_mermaid_png()))\n"
   ]
  },
  {
   "cell_type": "code",
   "execution_count": 44,
   "metadata": {},
   "outputs": [
    {
     "name": "stdout",
     "output_type": "stream",
     "text": [
      "Using branch C\n"
     ]
    },
    {
     "data": {
      "text/plain": [
       "[HumanMessage(content='hello', additional_kwargs={}, response_metadata={}, id='efc73f62-6d42-4fef-8c61-695c16d0de0d')]"
      ]
     },
     "execution_count": 44,
     "metadata": {},
     "output_type": "execute_result"
    }
   ],
   "source": [
    "runnable.invoke(\"hello\")\n"
   ]
  },
  {
   "cell_type": "code",
   "execution_count": 45,
   "metadata": {},
   "outputs": [
    {
     "name": "stdout",
     "output_type": "stream",
     "text": [
      "Using branch B\n"
     ]
    },
    {
     "data": {
      "text/plain": [
       "[HumanMessage(content='I want to use_b', additional_kwargs={}, response_metadata={}, id='21108178-bcba-499c-b4d8-2d709e1e40d6')]"
      ]
     },
     "execution_count": 45,
     "metadata": {},
     "output_type": "execute_result"
    }
   ],
   "source": [
    "runnable.invoke(\"I want to use_b\")\n"
   ]
  },
  {
   "cell_type": "markdown",
   "metadata": {},
   "source": [
    "### Cycles"
   ]
  },
  {
   "cell_type": "code",
   "execution_count": 46,
   "metadata": {},
   "outputs": [],
   "source": [
    "from langchain_openai import ChatOpenAI\n",
    "from langchain_core.messages import HumanMessage\n",
    "from langgraph.graph import END, MessageGraph\n",
    "from langchain_openai import AzureChatOpenAI\n",
    "import os\n",
    "#model = ChatOpenAI(temperature=0)\n",
    "model = AzureChatOpenAI(azure_deployment=\"gpt-4o-mini-2024-07-18\",\n",
    "    api_key=os.getenv(\"AZURE_OPENAI_API_KEY\"),  \n",
    "    api_version=os.getenv(\"AZURE_API_VERSION\"),\n",
    "    azure_endpoint=os.getenv(\"AZURE_OPENAI_ENDPOINT\"),\n",
    "    )\n",
    "\n",
    "\n"
   ]
  },
  {
   "cell_type": "code",
   "execution_count": 47,
   "metadata": {},
   "outputs": [],
   "source": [
    "def entry(input: list[HumanMessage]):\n",
    "    return input\n",
    "\n",
    "\n",
    "def action(input: list[HumanMessage]):\n",
    "    print(\"Action taken:\", [msg.content for msg in input])\n",
    "    if len(input) > 5:\n",
    "        input.append(HumanMessage(content=\"end\"))\n",
    "    else:\n",
    "        input.append(HumanMessage(content=\"continue\"))\n",
    "    return input\n",
    "\n",
    "\n",
    "def should_continue(input: list):\n",
    "    last_message = input[-1]\n",
    "    if \"end\" in last_message.content:\n",
    "        return \"__end__\"\n",
    "    return \"action\"\n"
   ]
  },
  {
   "cell_type": "code",
   "execution_count": 48,
   "metadata": {},
   "outputs": [
    {
     "data": {
      "text/plain": [
       "<langgraph.graph.message.MessageGraph at 0x1273fc3e0>"
      ]
     },
     "execution_count": 48,
     "metadata": {},
     "output_type": "execute_result"
    }
   ],
   "source": [
    "graph = MessageGraph()\n",
    "\n",
    "graph.add_node(\"agent\", entry)\n",
    "graph.add_node(\"action\", action)\n",
    "\n",
    "graph.add_conditional_edges(\n",
    "    \"agent\", should_continue, {\"action\": \"action\", \"__end__\": END}\n",
    ")"
   ]
  },
  {
   "cell_type": "code",
   "execution_count": 49,
   "metadata": {},
   "outputs": [],
   "source": [
    "graph.add_edge(\"action\", \"agent\")\n",
    "\n",
    "graph.set_entry_point(\"agent\")\n",
    "\n",
    "runnable = graph.compile()"
   ]
  },
  {
   "cell_type": "code",
   "execution_count": 50,
   "metadata": {},
   "outputs": [
    {
     "data": {
      "image/jpeg": "[encoded data removed]",
      "text/plain": [
       "<IPython.core.display.Image object>"
      ]
     },
     "metadata": {},
     "output_type": "display_data"
    }
   ],
   "source": [
    "display(Image(runnable.get_graph().draw_mermaid_png()))\n"
   ]
  },
  {
   "cell_type": "code",
   "execution_count": 51,
   "metadata": {},
   "outputs": [
    {
     "name": "stdout",
     "output_type": "stream",
     "text": [
      "Action taken: ['Hello']\n",
      "Action taken: ['Hello', 'continue']\n",
      "Action taken: ['Hello', 'continue', 'continue']\n",
      "Action taken: ['Hello', 'continue', 'continue', 'continue']\n",
      "Action taken: ['Hello', 'continue', 'continue', 'continue', 'continue']\n",
      "Action taken: ['Hello', 'continue', 'continue', 'continue', 'continue', 'continue']\n"
     ]
    },
    {
     "data": {
      "text/plain": [
       "[HumanMessage(content='Hello', additional_kwargs={}, response_metadata={}, id='88cc9e1c-20ec-43a2-a1b7-255beb97e28d'),\n",
       " HumanMessage(content='continue', additional_kwargs={}, response_metadata={}, id='4a96d653-de20-440e-a264-b153fe102c72'),\n",
       " HumanMessage(content='continue', additional_kwargs={}, response_metadata={}, id='29ba6e9b-0d8d-4e68-b0de-dcc3389a4f02'),\n",
       " HumanMessage(content='continue', additional_kwargs={}, response_metadata={}, id='2c83052d-d7f8-459f-8ba6-bff88a631b6e'),\n",
       " HumanMessage(content='continue', additional_kwargs={}, response_metadata={}, id='c06635ca-9d5c-4cfe-a6f8-07a4cd2dde97'),\n",
       " HumanMessage(content='continue', additional_kwargs={}, response_metadata={}, id='699cd951-ed4b-4cd0-a7b3-4be443750aaa'),\n",
       " HumanMessage(content='end', additional_kwargs={}, response_metadata={}, id='8a9148ad-05ed-4214-aa55-5e54265ec951')]"
      ]
     },
     "execution_count": 51,
     "metadata": {},
     "output_type": "execute_result"
    }
   ],
   "source": [
    "runnable.invoke(\"Hello\")\n"
   ]
  },
  {
   "cell_type": "code",
   "execution_count": null,
   "metadata": {},
   "outputs": [],
   "source": []
  }
 ],
 "metadata": {
  "kernelspec": {
   "display_name": "llmops",
   "language": "python",
   "name": "python3"
  },
  "language_info": {
   "codemirror_mode": {
    "name": "ipython",
    "version": 3
   },
   "file_extension": ".py",
   "mimetype": "text/x-python",
   "name": "python",
   "nbconvert_exporter": "python",
   "pygments_lexer": "ipython3",
   "version": "3.12.0"
  }
 },
 "nbformat": 4,
 "nbformat_minor": 2
}
