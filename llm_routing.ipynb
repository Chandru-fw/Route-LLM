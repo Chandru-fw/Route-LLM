{
 "cells": [
  {
   "cell_type": "code",
   "execution_count": 150,
   "metadata": {},
   "outputs": [],
   "source": [
    "from typing import Dict,TypedDict,Optional\n",
    "from langgraph.graph import StateGraph,END\n",
    "from langchain_openai import AzureChatOpenAI\n",
    "import os\n",
    "from langchain_core.messages import BaseMessage,HumanMessage,SystemMessage\n",
    "from langchain_groq import ChatGroq\n",
    "#from langchain_community.llms import OpenLLM\n",
    "from llama_index.llms.openllm import OpenLLM"
   ]
  },
  {
   "cell_type": "code",
   "execution_count": 151,
   "metadata": {},
   "outputs": [
    {
     "data": {
      "text/plain": [
       "True"
      ]
     },
     "execution_count": 151,
     "metadata": {},
     "output_type": "execute_result"
    }
   ],
   "source": [
    "from dotenv import load_dotenv\n",
    "\n",
    "load_dotenv(dotenv_path=\".env\")"
   ]
  },
  {
   "cell_type": "code",
   "execution_count": 152,
   "metadata": {},
   "outputs": [],
   "source": [
    "gpt_4_mini=AzureChatOpenAI(azure_deployment=\"gpt-4o-mini-2024-07-18\",\n",
    "    api_key=os.getenv(\"AZURE_OPENAI_API_KEY\"),  \n",
    "    api_version=os.getenv(\"AZURE_API_VERSION\"),\n",
    "    azure_endpoint=os.getenv(\"AZURE_OPENAI_ENDPOINT\"),\n",
    "    )"
   ]
  },
  {
   "cell_type": "code",
   "execution_count": 178,
   "metadata": {},
   "outputs": [],
   "source": [
    "mixtral_model = OpenLLM(\n",
    "            api_base=\"http://mistral7b.cloudverse.freshworkscorp.com/v1/\",\n",
    "            model=\"mistralai/Mistral-7B-Instruct-v0.2\",\n",
    "            api_key=\"na\",\n",
    "            max_tokens=4096,\n",
    "            temperature=0.1\n",
    "          )"
   ]
  },
  {
   "cell_type": "code",
   "execution_count": 154,
   "metadata": {},
   "outputs": [],
   "source": [
    "# output=mixtral_model.complete(\"Find the next number in the sequence : 2,6,12,20,30,_ ?\")"
   ]
  },
  {
   "cell_type": "code",
   "execution_count": 155,
   "metadata": {},
   "outputs": [
    {
     "name": "stdout",
     "output_type": "stream",
     "text": [
      "\n",
      "\n",
      "The sequence is obtained by adding consecutive odd numbers to the previous term.\n",
      "\n",
      "So, 2 + 2 = 4, 4 + 4 = 8, 8 + 4 = 12, 12 + 8 = 20, 20 + 10 = 30.\n",
      "\n",
      "Therefore, the next number in the sequence is 40 (30 + 10).\n"
     ]
    }
   ],
   "source": [
    "# print(output)"
   ]
  },
  {
   "cell_type": "code",
   "execution_count": 157,
   "metadata": {},
   "outputs": [],
   "source": [
    "# print(os.getenv(\"GROQ_API_KEY\"))"
   ]
  },
  {
   "cell_type": "code",
   "execution_count": 158,
   "metadata": {},
   "outputs": [],
   "source": [
    "# mixtral_model=ChatGroq(groq_api_key=os.getenv(\"GROQ_API_KEY\"),model_name=\"mixtral-8x7b-32768\",streaming = True)"
   ]
  },
  {
   "cell_type": "code",
   "execution_count": 159,
   "metadata": {},
   "outputs": [],
   "source": [
    "gemma_model=ChatGroq(groq_api_key=os.getenv(\"GROQ_API_KEY\"),model_name=\"gemma2-9b-it\",streaming = True)"
   ]
  },
  {
   "cell_type": "code",
   "execution_count": 160,
   "metadata": {},
   "outputs": [],
   "source": [
    "llama_model=ChatGroq(groq_api_key=os.getenv(\"GROQ_API_KEY\"),model_name=\"llama-3.2-90b-text-preview\",streaming = True)"
   ]
  },
  {
   "cell_type": "code",
   "execution_count": 183,
   "metadata": {},
   "outputs": [],
   "source": [
    "llama_model = OpenLLM(\n",
    "            api_base=\"http://llama70bq.cloudverse.freshworkscorp.com/v1\",\n",
    "            model=\"neuralmagic/Meta-Llama-3.1-70B-Instruct-quantized.w4a16\",  #meta-llama/Meta-Llama-3-8B-Instruct\n",
    "            api_key=\"na\",\n",
    "            max_tokens=4096\n",
    "          )"
   ]
  },
  {
   "cell_type": "code",
   "execution_count": 184,
   "metadata": {},
   "outputs": [
    {
     "data": {
      "text/plain": [
       "CompletionResponse(text=\" essay\\nWorld War 2 was a global conflict that lasted from 1939 to 1945. It was the deadliest war in human history, with an estimated 50-80 million fatalities. The war was fought between two main alliances: the Allies, which consisted of the United States, the United Kingdom, France, and the Soviet Union, among others; and the Axis powers, which included Germany, Italy, and Japan.\\nThe war began on September 1, 1939, when Nazi Germany, led by Adolf Hitler, invaded Poland. This act of aggression prompted the United Kingdom and France to declare war on Germany. Over the next year, Germany expanded its territorial control, invading and occupying several European countries, including Denmark, Norway, Belgium, the Netherlands, and France.\\nIn June 1941, Germany launched a surprise attack on the Soviet Union, known as Operation Barbarossa. The invasion was a major turning point in the war, as it led to a prolonged and bloody conflict on the Eastern Front. The Soviet Union suffered heavily in the early years of the war, but eventually began to push the Germans back.\\n\\nIn December 1941, Japan launched a surprise attack on the United States naval base at Pearl Harbor, Hawaii, drawing the United States into the war. The U.S. entry into the conflict marked a significant shift in the balance of power, as the country's industrial and military might began to be felt.\\n\\nThe war in Europe turned in favor of the Allies in 1942, when the United States and the United Kingdom launched a series of successful military campaigns in North Africa. The Allies then invaded Italy, which led to the surrender of the Italian army and the eventual collapse of the Italian government.\\n\\nIn June 1944, the Allies launched a massive invasion of Nazi-occupied France, known as D-Day. The invasion, which was the largest amphibious assault in history, marked a major turning point in the war. The Allies then began to push the Germans back, eventually breaking through the German defenses and advancing into Germany.\\n\\nAs the Allies closed in on Germany, the Soviet Union launched a series of successful offensives on the Eastern Front, eventually capturing the German capital of Berlin. On April 30, 1945, Hitler took his own life, and on May 8, 1945, Germany surrendered unconditionally.\\n\\nThe war in the Pacific continued until August 1945, when the United States dropped atomic bombs on the Japanese cities of Hiroshima and Nagasaki. The bombings killed hundreds of thousands of people and led to Japan's surrender on August 15, 1945.\\n\\nThe aftermath of World War 2 was marked by a period of reconstruction and reorganization. The United Nations was established in 1945 to promote international cooperation and prevent future wars. The war also led to the emergence of the United States and the Soviet Union as superpowers, setting the stage for the Cold War.\\n\\nIn conclusion, World War 2 was a global conflict that lasted from 1939 to 1945. It was the deadliest war in human history, with an estimated 50-80 million fatalities. The war was fought between two main alliances: the Allies and the Axis powers. The war began with Germany's invasion of Poland and ended with the surrender of Germany and Japan. The aftermath of the war was marked by a period of reconstruction and reorganization, and it had a profound impact on the world order.\", additional_kwargs={'prompt_tokens': 9, 'completion_tokens': 695, 'total_tokens': 704}, raw=Completion(id='cmpl-8b9f4744154d4325af027895fb7eb897', choices=[CompletionChoice(finish_reason='stop', index=0, logprobs=None, text=\" essay\\nWorld War 2 was a global conflict that lasted from 1939 to 1945. It was the deadliest war in human history, with an estimated 50-80 million fatalities. The war was fought between two main alliances: the Allies, which consisted of the United States, the United Kingdom, France, and the Soviet Union, among others; and the Axis powers, which included Germany, Italy, and Japan.\\nThe war began on September 1, 1939, when Nazi Germany, led by Adolf Hitler, invaded Poland. This act of aggression prompted the United Kingdom and France to declare war on Germany. Over the next year, Germany expanded its territorial control, invading and occupying several European countries, including Denmark, Norway, Belgium, the Netherlands, and France.\\nIn June 1941, Germany launched a surprise attack on the Soviet Union, known as Operation Barbarossa. The invasion was a major turning point in the war, as it led to a prolonged and bloody conflict on the Eastern Front. The Soviet Union suffered heavily in the early years of the war, but eventually began to push the Germans back.\\n\\nIn December 1941, Japan launched a surprise attack on the United States naval base at Pearl Harbor, Hawaii, drawing the United States into the war. The U.S. entry into the conflict marked a significant shift in the balance of power, as the country's industrial and military might began to be felt.\\n\\nThe war in Europe turned in favor of the Allies in 1942, when the United States and the United Kingdom launched a series of successful military campaigns in North Africa. The Allies then invaded Italy, which led to the surrender of the Italian army and the eventual collapse of the Italian government.\\n\\nIn June 1944, the Allies launched a massive invasion of Nazi-occupied France, known as D-Day. The invasion, which was the largest amphibious assault in history, marked a major turning point in the war. The Allies then began to push the Germans back, eventually breaking through the German defenses and advancing into Germany.\\n\\nAs the Allies closed in on Germany, the Soviet Union launched a series of successful offensives on the Eastern Front, eventually capturing the German capital of Berlin. On April 30, 1945, Hitler took his own life, and on May 8, 1945, Germany surrendered unconditionally.\\n\\nThe war in the Pacific continued until August 1945, when the United States dropped atomic bombs on the Japanese cities of Hiroshima and Nagasaki. The bombings killed hundreds of thousands of people and led to Japan's surrender on August 15, 1945.\\n\\nThe aftermath of World War 2 was marked by a period of reconstruction and reorganization. The United Nations was established in 1945 to promote international cooperation and prevent future wars. The war also led to the emergence of the United States and the Soviet Union as superpowers, setting the stage for the Cold War.\\n\\nIn conclusion, World War 2 was a global conflict that lasted from 1939 to 1945. It was the deadliest war in human history, with an estimated 50-80 million fatalities. The war was fought between two main alliances: the Allies and the Axis powers. The war began with Germany's invasion of Poland and ended with the surrender of Germany and Japan. The aftermath of the war was marked by a period of reconstruction and reorganization, and it had a profound impact on the world order.\", stop_reason=None, prompt_logprobs=None)], created=1730816477, model='neuralmagic/Meta-Llama-3.1-70B-Instruct-quantized.w4a16', object='text_completion', system_fingerprint=None, usage=CompletionUsage(completion_tokens=695, prompt_tokens=9, total_tokens=704, completion_tokens_details=None, prompt_tokens_details=None)), logprobs=None, delta=None)"
      ]
     },
     "execution_count": 184,
     "metadata": {},
     "output_type": "execute_result"
    }
   ],
   "source": [
    "llama_model.complete(\"what happened in world war 2?\")"
   ]
  },
  {
   "cell_type": "code",
   "execution_count": 161,
   "metadata": {},
   "outputs": [],
   "source": [
    "class GraphState(TypedDict):\n",
    "    question: Optional[str] = None\n",
    "    classification : Optional[str] = None\n",
    "    response: Optional[str]=None\n",
    "    model : Optional[str]=None\n",
    "\n"
   ]
  },
  {
   "cell_type": "code",
   "execution_count": 162,
   "metadata": {},
   "outputs": [],
   "source": [
    "workflow = StateGraph(GraphState)\n"
   ]
  },
  {
   "cell_type": "code",
   "execution_count": 163,
   "metadata": {},
   "outputs": [],
   "source": [
    "def analyze_complexity(question):\n",
    "    \"\"\"Analyze question complexity to determine which LLM to use\"\"\"\n",
    "    # Use a simpler model to classify complexity\n",
    "    response = gpt_4_mini.invoke(\n",
    "        f\"Classify the complexity of this question as 'simple' or 'complex' or 'reasoning'. Just output the classification. Question: {question}\"\n",
    "    )\n",
    "    return {\"classification\": response.content.strip()}\n",
    "\n",
    "def handle_simple_query(state):\n",
    "    \"\"\"Handle simple queries with gemma model\"\"\"\n",
    "    question = state['question']\n",
    "    response = gemma_model.invoke(question)\n",
    "    return {\"response\": response.content,\"model\":\"gemma2-9b-it\"}\n",
    "\n",
    "def handle_complex_query(state):\n",
    "    \"\"\"Handle complex queries with llama\"\"\"\n",
    "    question = state['question']\n",
    "    response = llama_model.invoke(question)\n",
    "    return {\"response\": response.content,\"model\":\"llama-3.2-90b-text-preview\"}\n",
    "\n",
    "# def handle_reasoning_query(state):\n",
    "#     \"\"\"Handle reasoning queries with mixtral\"\"\"\n",
    "#     question = state['question']\n",
    "#     response = mixtral_model.invoke(question)\n",
    "#     return {\"response\": response.content}\n",
    "\n",
    "def handle_reasoning_query(state):\n",
    "    \"\"\"Handle reasoning queries with specific prompt template\"\"\"\n",
    "    question = state['question']\n",
    "    prompt = f\"\"\"Please approach this question step by step:\n",
    "1. First, identify the key components of the problem\n",
    "2. Then, break down the logical steps needed\n",
    "3. Finally, provide a well-reasoned conclusion\n",
    "\n",
    "Question: {question}\n",
    "\"\"\"\n",
    "    response = mixtral_model.complete(prompt)\n",
    "    return {\"response\": response.text,\"model\":\"mixtral-8x7b-32768\"}"
   ]
  },
  {
   "cell_type": "code",
   "execution_count": 164,
   "metadata": {},
   "outputs": [
    {
     "data": {
      "text/plain": [
       "<langgraph.graph.state.StateGraph at 0x3425107d0>"
      ]
     },
     "execution_count": 164,
     "metadata": {},
     "output_type": "execute_result"
    }
   ],
   "source": [
    "# Add nodes\n",
    "workflow.add_node(\"analyze_complexity\", analyze_complexity)\n",
    "workflow.add_node(\"handle_simple\", handle_simple_query)\n",
    "workflow.add_node(\"handle_complex\", handle_complex_query)\n",
    "workflow.add_node(\"handle_reasoning\", handle_reasoning_query)"
   ]
  },
  {
   "cell_type": "code",
   "execution_count": 165,
   "metadata": {},
   "outputs": [
    {
     "data": {
      "text/plain": [
       "<langgraph.graph.state.StateGraph at 0x3425107d0>"
      ]
     },
     "execution_count": 165,
     "metadata": {},
     "output_type": "execute_result"
    }
   ],
   "source": [
    "# Set entry point\n",
    "workflow.set_entry_point(\"analyze_complexity\")"
   ]
  },
  {
   "cell_type": "code",
   "execution_count": 166,
   "metadata": {},
   "outputs": [
    {
     "data": {
      "text/plain": [
       "<langgraph.graph.state.StateGraph at 0x3425107d0>"
      ]
     },
     "execution_count": 166,
     "metadata": {},
     "output_type": "execute_result"
    }
   ],
   "source": [
    "# Add edges to END\n",
    "workflow.add_edge(\"handle_simple\", END)\n",
    "workflow.add_edge(\"handle_complex\", END)\n",
    "workflow.add_edge(\"handle_reasoning\",END)"
   ]
  },
  {
   "cell_type": "code",
   "execution_count": 167,
   "metadata": {},
   "outputs": [],
   "source": [
    "# Define routing logic\n",
    "def route_to_model(state):\n",
    "    if state[\"classification\"] == \"simple\":\n",
    "        return \"handle_simple\"\n",
    "    elif state[\"classification\"] == \"reasoning\":\n",
    "        return \"handle_reasoning\"\n",
    "    else:\n",
    "        return \"handle_complex\""
   ]
  },
  {
   "cell_type": "code",
   "execution_count": 168,
   "metadata": {},
   "outputs": [
    {
     "data": {
      "text/plain": [
       "<langgraph.graph.state.StateGraph at 0x3425107d0>"
      ]
     },
     "execution_count": 168,
     "metadata": {},
     "output_type": "execute_result"
    }
   ],
   "source": [
    "# Add conditional edges\n",
    "workflow.add_conditional_edges(\n",
    "    \"analyze_complexity\",\n",
    "    route_to_model,\n",
    "    {\n",
    "        \"handle_simple\": \"handle_simple\",\n",
    "        \"handle_complex\": \"handle_complex\",\n",
    "        \"handle_reasoning\": \"handle_reasoning\"\n",
    "    }\n",
    ")\n"
   ]
  },
  {
   "cell_type": "code",
   "execution_count": 169,
   "metadata": {},
   "outputs": [],
   "source": [
    "app = workflow.compile()\n"
   ]
  },
  {
   "cell_type": "code",
   "execution_count": 170,
   "metadata": {},
   "outputs": [
    {
     "data": {
      "text/plain": [
       "{'question': 'What is 2+2?',\n",
       " 'classification': 'simple',\n",
       " 'response': '2 + 2 = 4\\n',\n",
       " 'model': 'gemma2-9b-it'}"
      ]
     },
     "execution_count": 170,
     "metadata": {},
     "output_type": "execute_result"
    }
   ],
   "source": [
    "app.invoke({\n",
    "    \"question\": \"What is 2+2?\"}) "
   ]
  },
  {
   "cell_type": "code",
   "execution_count": 171,
   "metadata": {},
   "outputs": [
    {
     "data": {
      "text/plain": [
       "{'question': 'Analyze the causes of World War I',\n",
       " 'classification': 'complex',\n",
       " 'response': \"The causes of World War I can be attributed to a complex interplay of various factors, including:\\n\\n1. **Imperialism**: European nations were competing for colonies and resources in Africa and Asia, leading to tensions and rivalries. The Scramble for Africa (1881-1914) and the partitioning of China (1894-1902) are notable examples.\\n\\n2. **Nationalism**: The rise of nationalism in various countries contributed to the war. Countries like Germany, Italy, and France were seeking to assert their dominance and secure their interests, often at the expense of other nations.\\n\\n3. **Militarism**: The buildup of military forces and the glorification of war in many European countries created an atmosphere of aggression and competition. This led to an arms race, with countries like Germany, France, and Britain vying for military superiority.\\n\\n4. **Alliances**: The complex system of alliances between European powers, such as the Triple Entente (France, Britain, and Russia) and the Triple Alliance (Germany, Austria-Hungary, and Italy), created a situation in which a small conflict could quickly escalate into a larger war.\\n\\n5. **Assassination of Archduke Franz Ferdinand**: The assassination of the heir to the Austro-Hungarian throne by a Serbian nationalist in June 1914 triggered a chain reaction of events that led to the outbreak of war.\\n\\n6. **Economic rivalries**: Economic competition between nations, particularly between Britain and Germany, contributed to the tensions leading up to the war.\\n\\n7. **Balance of power**: The balance of power in Europe, which had been maintained for decades through a system of alliances and diplomacy, was disrupted by the rise of Germany and the decline of Austria-Hungary and the Ottoman Empire.\\n\\n**Key events leading to the war:**\\n\\n1. **The Balkan Wars (1912-1913)**: The Ottoman Empire's decline and the subsequent conflicts in the Balkans led to increased tensions between European powers.\\n2. **The Bosnian Crisis (1908-1909)**: Austria-Hungary's annexation of Bosnia and Herzegovina led to a crisis between Austria-Hungary and Serbia, which Russia supported.\\n3. **The Italo-Turkish War (1911-1912)**: Italy's invasion of Ottoman-controlled Libya led to increased tensions between Italy and Austria-Hungary.\\n4. **The Agadir Crisis (1911)**: A dispute between France and Germany over Morocco led to increased tensions between the two countries.\\n\\n**Key figures:**\\n\\n1. **Kaiser Wilhelm II (Germany)**: The German emperor's aggressive and impulsive behavior contributed to the tensions leading up to the war.\\n2. **Franz Conrad von Hötzendorf (Austria-Hungary)**: The Austro-Hungarian chief of staff advocated for a hardline approach towards Serbia and supported the ultimatum that led to the war.\\n3. **Raymond Poincaré (France)**: The French president's support for Russia and his determination to protect French interests contributed to the tensions leading up to the war.\\n4. **David Lloyd George (Britain)**: The British prime minister's initial reluctance to enter the war and his subsequent support for the Entente powers played a significant role in the conflict.\\n\\n**Conclusion:**\\nThe causes of World War I were complex and multifaceted, involving a combination of imperialism, nationalism, militarism, alliances, and economic rivalries. The intricate system of alliances and the buildup of military forces created an atmosphere of tension and competition that ultimately led to the outbreak of war.\",\n",
       " 'model': 'llama-3.2-90b-text-preview'}"
      ]
     },
     "execution_count": 171,
     "metadata": {},
     "output_type": "execute_result"
    }
   ],
   "source": [
    "app.invoke({\n",
    "    \"question\": \"Analyze the causes of World War I\"})"
   ]
  },
  {
   "cell_type": "code",
   "execution_count": 172,
   "metadata": {},
   "outputs": [
    {
     "data": {
      "text/plain": [
       "{'question': 'Find the next number in the sequence : 2,6,12,20,30,_ ?',\n",
       " 'classification': 'reasoning',\n",
       " 'response': '\\nStep 1: Identify the key components of the problem\\nThe problem statement provides a sequence of numbers. The task is to find the next number in the sequence.\\n\\nStep 2: Break down the logical steps needed\\n1. Observe the sequence and identify any patterns or rules.\\n2. Use the identified pattern or rule to find the next number.\\n\\nStep 3: Provide a well-reasoned conclusion\\n1. Observe the sequence: The difference between consecutive terms is increasing by 4, 6, 8, 10.\\n2. Use the identified pattern to find the next difference: The difference between 30 and 20 is 10. So, the difference between the next term and 30 should be 10.\\n3. Find the next term: The next term in the sequence is 30 + 10 = 40.\\n\\nTherefore, the next number in the sequence is 40.',\n",
       " 'model': 'mixtral-8x7b-32768'}"
      ]
     },
     "execution_count": 172,
     "metadata": {},
     "output_type": "execute_result"
    }
   ],
   "source": [
    "app.invoke({\n",
    "    \"question\": \"Find the next number in the sequence : 2,6,12,20,30,_ ?\"})  "
   ]
  },
  {
   "cell_type": "code",
   "execution_count": 43,
   "metadata": {},
   "outputs": [
    {
     "data": {
      "image/jpeg": "[encoded data removed]",
      "text/plain": [
       "<IPython.core.display.Image object>"
      ]
     },
     "metadata": {},
     "output_type": "display_data"
    }
   ],
   "source": [
    "from IPython.display import Image, display\n",
    "\n",
    "display(Image(app.get_graph().draw_mermaid_png()))"
   ]
  },
  {
   "cell_type": "code",
   "execution_count": null,
   "metadata": {},
   "outputs": [],
   "source": []
  }
 ],
 "metadata": {
  "kernelspec": {
   "display_name": "llmops",
   "language": "python",
   "name": "python3"
  },
  "language_info": {
   "codemirror_mode": {
    "name": "ipython",
    "version": 3
   },
   "file_extension": ".py",
   "mimetype": "text/x-python",
   "name": "python",
   "nbconvert_exporter": "python",
   "pygments_lexer": "ipython3",
   "version": "3.12.0"
  }
 },
 "nbformat": 4,
 "nbformat_minor": 2
}
